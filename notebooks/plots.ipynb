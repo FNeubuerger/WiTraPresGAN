{
 "cells": [
  {
   "cell_type": "code",
   "execution_count": 7,
   "id": "eb2c1343",
   "metadata": {},
   "outputs": [],
   "source": [
    "import pandas as pd\n",
    "import matplotlib.pyplot as plt\n",
    "import numpy as np"
   ]
  },
  {
   "cell_type": "code",
   "execution_count": 5,
   "id": "34e835d4",
   "metadata": {},
   "outputs": [
    {
     "data": {
      "text/html": [
       "<div>\n",
       "<style scoped>\n",
       "    .dataframe tbody tr th:only-of-type {\n",
       "        vertical-align: middle;\n",
       "    }\n",
       "\n",
       "    .dataframe tbody tr th {\n",
       "        vertical-align: top;\n",
       "    }\n",
       "\n",
       "    .dataframe thead th {\n",
       "        text-align: right;\n",
       "    }\n",
       "</style>\n",
       "<table border=\"1\" class=\"dataframe\">\n",
       "  <thead>\n",
       "    <tr style=\"text-align: right;\">\n",
       "      <th></th>\n",
       "      <th>Ori</th>\n",
       "      <th>Ori_std</th>\n",
       "      <th>Synth</th>\n",
       "      <th>Synth_std</th>\n",
       "      <th>Diff</th>\n",
       "      <th>Diff_std</th>\n",
       "    </tr>\n",
       "  </thead>\n",
       "  <tbody>\n",
       "    <tr>\n",
       "      <th>0</th>\n",
       "      <td>0.33980</td>\n",
       "      <td>0.20</td>\n",
       "      <td>0.29990</td>\n",
       "      <td>0.1</td>\n",
       "      <td>0.03990</td>\n",
       "      <td>0.30</td>\n",
       "    </tr>\n",
       "    <tr>\n",
       "      <th>1</th>\n",
       "      <td>0.51252</td>\n",
       "      <td>0.24</td>\n",
       "      <td>0.57622</td>\n",
       "      <td>0.3</td>\n",
       "      <td>0.06370</td>\n",
       "      <td>0.54</td>\n",
       "    </tr>\n",
       "    <tr>\n",
       "      <th>2</th>\n",
       "      <td>0.38584</td>\n",
       "      <td>0.10</td>\n",
       "      <td>0.35178</td>\n",
       "      <td>0.1</td>\n",
       "      <td>0.03406</td>\n",
       "      <td>0.20</td>\n",
       "    </tr>\n",
       "    <tr>\n",
       "      <th>3</th>\n",
       "      <td>0.37930</td>\n",
       "      <td>0.10</td>\n",
       "      <td>0.33700</td>\n",
       "      <td>0.1</td>\n",
       "      <td>0.04230</td>\n",
       "      <td>0.20</td>\n",
       "    </tr>\n",
       "    <tr>\n",
       "      <th>4</th>\n",
       "      <td>0.41430</td>\n",
       "      <td>0.10</td>\n",
       "      <td>0.32980</td>\n",
       "      <td>0.1</td>\n",
       "      <td>0.08450</td>\n",
       "      <td>0.20</td>\n",
       "    </tr>\n",
       "    <tr>\n",
       "      <th>5</th>\n",
       "      <td>0.37500</td>\n",
       "      <td>0.10</td>\n",
       "      <td>0.32860</td>\n",
       "      <td>0.1</td>\n",
       "      <td>0.04640</td>\n",
       "      <td>0.20</td>\n",
       "    </tr>\n",
       "    <tr>\n",
       "      <th>6</th>\n",
       "      <td>0.37290</td>\n",
       "      <td>0.10</td>\n",
       "      <td>0.33700</td>\n",
       "      <td>0.1</td>\n",
       "      <td>0.03590</td>\n",
       "      <td>0.20</td>\n",
       "    </tr>\n",
       "    <tr>\n",
       "      <th>7</th>\n",
       "      <td>0.37200</td>\n",
       "      <td>0.10</td>\n",
       "      <td>0.32830</td>\n",
       "      <td>0.1</td>\n",
       "      <td>0.04370</td>\n",
       "      <td>0.20</td>\n",
       "    </tr>\n",
       "    <tr>\n",
       "      <th>8</th>\n",
       "      <td>0.22780</td>\n",
       "      <td>0.07</td>\n",
       "      <td>0.46240</td>\n",
       "      <td>0.2</td>\n",
       "      <td>0.23460</td>\n",
       "      <td>0.27</td>\n",
       "    </tr>\n",
       "    <tr>\n",
       "      <th>9</th>\n",
       "      <td>0.23040</td>\n",
       "      <td>0.08</td>\n",
       "      <td>0.47280</td>\n",
       "      <td>0.2</td>\n",
       "      <td>0.24240</td>\n",
       "      <td>0.28</td>\n",
       "    </tr>\n",
       "  </tbody>\n",
       "</table>\n",
       "</div>"
      ],
      "text/plain": [
       "       Ori  Ori_std    Synth  Synth_std     Diff  Diff_std\n",
       "0  0.33980     0.20  0.29990        0.1  0.03990      0.30\n",
       "1  0.51252     0.24  0.57622        0.3  0.06370      0.54\n",
       "2  0.38584     0.10  0.35178        0.1  0.03406      0.20\n",
       "3  0.37930     0.10  0.33700        0.1  0.04230      0.20\n",
       "4  0.41430     0.10  0.32980        0.1  0.08450      0.20\n",
       "5  0.37500     0.10  0.32860        0.1  0.04640      0.20\n",
       "6  0.37290     0.10  0.33700        0.1  0.03590      0.20\n",
       "7  0.37200     0.10  0.32830        0.1  0.04370      0.20\n",
       "8  0.22780     0.07  0.46240        0.2  0.23460      0.27\n",
       "9  0.23040     0.08  0.47280        0.2  0.24240      0.28"
      ]
     },
     "execution_count": 5,
     "metadata": {},
     "output_type": "execute_result"
    }
   ],
   "source": [
    "fem_res = pd.read_csv('FEM_res_withdiff.csv', names=['Ori','Ori_std', 'Synth', 'Synth_std', 'Diff', 'Diff_std'])\n",
    "fem_res"
   ]
  },
  {
   "cell_type": "code",
   "execution_count": 18,
   "id": "27a0b9fe",
   "metadata": {},
   "outputs": [
    {
     "data": {
      "image/png": "[encoded data removed]",
      "text/plain": [
       "<Figure size 640x480 with 1 Axes>"
      ]
     },
     "metadata": {},
     "output_type": "display_data"
    }
   ],
   "source": [
    "xx = np.linspace(10,100,10)\n",
    "plt.errorbar(x=xx,y=fem_res['Ori'], yerr=fem_res['Ori_std'], fmt='.', label='trained on original data', alpha=0.7)\n",
    "plt.errorbar(x=xx,y=fem_res['Synth'], yerr=fem_res['Synth_std'], fmt='.', label='trained on synth data', alpha=0.7)\n",
    "#plt.errorbar(x=xx,y=fem_res['Diff'], yerr=fem_res['Diff_std'], fmt='.', label='difference of scores')\n",
    "plt.ylim(0.1,0.9)\n",
    "plt.legend(loc='best')\n",
    "plt.show()"
   ]
  },
  {
   "cell_type": "code",
   "execution_count": null,
   "id": "af628623",
   "metadata": {},
   "outputs": [],
   "source": []
  }
 ],
 "metadata": {
  "kernelspec": {
   "display_name": "Python 3 (ipykernel)",
   "language": "python",
   "name": "python3"
  },
  "language_info": {
   "codemirror_mode": {
    "name": "ipython",
    "version": 3
   },
   "file_extension": ".py",
   "mimetype": "text/x-python",
   "name": "python",
   "nbconvert_exporter": "python",
   "pygments_lexer": "ipython3",
   "version": "3.9.13"
  }
 },
 "nbformat": 4,
 "nbformat_minor": 5
}
