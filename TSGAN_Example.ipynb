{
 "cells": [
  {
   "cell_type": "code",
   "execution_count": 5,
   "id": "20043616",
   "metadata": {},
   "outputs": [],
   "source": [
    "import os\n",
    "import pickle\n",
    "\n",
    "import joblib\n",
    "import matplotlib.pyplot as plt\n",
    "import numpy as np\n",
    "import pandas as pd\n",
    "import seaborn as sns\n",
    "\n",
    "from metrics.visualization import visualization\n",
    "\n",
    "%matplotlib inline\n",
    "\n"
   ]
  },
  {
   "cell_type": "code",
   "execution_count": 6,
   "id": "dfa09a57",
   "metadata": {},
   "outputs": [
    {
     "name": "stdout",
     "output_type": "stream",
     "text": [
      "Running feature prediction using original data...\n"
     ]
    },
    {
     "ename": "NameError",
     "evalue": "name 'feature_prediction' is not defined",
     "output_type": "error",
     "traceback": [
      "\u001b[0;31m---------------------------------------------------------------------------\u001b[0m",
      "\u001b[0;31mNameError\u001b[0m                                 Traceback (most recent call last)",
      "\u001b[0;32m<ipython-input-6-16b299ac9bf7>\u001b[0m in \u001b[0;36m<module>\u001b[0;34m\u001b[0m\n\u001b[1;32m     13\u001b[0m \u001b[0mfeat_idx\u001b[0m \u001b[0;34m=\u001b[0m \u001b[0mnp\u001b[0m\u001b[0;34m.\u001b[0m\u001b[0mrandom\u001b[0m\u001b[0;34m.\u001b[0m\u001b[0mpermutation\u001b[0m\u001b[0;34m(\u001b[0m\u001b[0mtrain_data\u001b[0m\u001b[0;34m.\u001b[0m\u001b[0mshape\u001b[0m\u001b[0;34m[\u001b[0m\u001b[0;36m2\u001b[0m\u001b[0;34m]\u001b[0m\u001b[0;34m)\u001b[0m\u001b[0;34m[\u001b[0m\u001b[0;34m:\u001b[0m\u001b[0;36m1\u001b[0m\u001b[0;34m]\u001b[0m\u001b[0;34m\u001b[0m\u001b[0;34m\u001b[0m\u001b[0m\n\u001b[1;32m     14\u001b[0m \u001b[0mprint\u001b[0m\u001b[0;34m(\u001b[0m\u001b[0;34m\"Running feature prediction using original data...\"\u001b[0m\u001b[0;34m)\u001b[0m\u001b[0;34m\u001b[0m\u001b[0;34m\u001b[0m\u001b[0m\n\u001b[0;32m---> 15\u001b[0;31m ori_feat_pred_perf = feature_prediction(\n\u001b[0m\u001b[1;32m     16\u001b[0m         \u001b[0;34m(\u001b[0m\u001b[0mtrain_data\u001b[0m\u001b[0;34m,\u001b[0m \u001b[0mtrain_time\u001b[0m\u001b[0;34m)\u001b[0m\u001b[0;34m,\u001b[0m\u001b[0;34m\u001b[0m\u001b[0;34m\u001b[0m\u001b[0m\n\u001b[1;32m     17\u001b[0m         \u001b[0;34m(\u001b[0m\u001b[0mtest_data\u001b[0m\u001b[0;34m,\u001b[0m \u001b[0mtest_time\u001b[0m\u001b[0;34m)\u001b[0m\u001b[0;34m,\u001b[0m\u001b[0;34m\u001b[0m\u001b[0;34m\u001b[0m\u001b[0m\n",
      "\u001b[0;31mNameError\u001b[0m: name 'feature_prediction' is not defined"
     ]
    }
   ],
   "source": [
    "path = \"../output/FEM100\"\n",
    "\n",
    "with open(f\"{path}/train_data.pickle\", \"rb\") as fb:\n",
    "    train_data = pickle.load(fb)\n",
    "    # ori_data = ori_data.reshape(ori_data.shape[0]*ori_data.shape[1], ori_data.shape[2])\n",
    "with open(f\"{path}/fake_data.pickle\", \"rb\") as fb:\n",
    "    generated_data = pickle.load(fb)\n",
    "    # new_data = new_data.reshape(new_data.shape[0]*new_data.shape[1], new_data.shape[2])\n",
    "    \n",
    "with open(f\"{path}/fake_time.pickle\", \"rb\") as fb:\n",
    "    generated_time = pickle.load(fb)\n",
    "\n",
    "feat_idx = np.random.permutation(train_data.shape[2])[:1]\n",
    "print(\"Running feature prediction using original data...\")\n",
    "ori_feat_pred_perf = feature_prediction(\n",
    "        (train_data, train_time), \n",
    "        (test_data, test_time),\n",
    "        feat_idx,\n",
    "        args.max_seq_len\n",
    "    )\n",
    "print(\"Running feature prediction using generated data...\")\n",
    "new_feat_pred_perf = feature_prediction(\n",
    "        (generated_data, generated_time),\n",
    "        (test_data, test_time),\n",
    "        feat_idx,\n",
    "        args.max_seq_len\n",
    "    )\n",
    "feat_pred = [ori_feat_pred_perf, new_feat_pred_perf]\n",
    "\n",
    "print('Feature prediction results:\\n' +\n",
    "          f'(1) Ori: {str(np.round(ori_feat_pred_perf, 4))}\\n' +\n",
    "          f'(2) New: {str(np.round(new_feat_pred_perf, 4))}\\n')\n"
   ]
  },
  {
   "cell_type": "code",
   "execution_count": null,
   "id": "c8f9a898",
   "metadata": {},
   "outputs": [],
   "source": []
  },
  {
   "cell_type": "code",
   "execution_count": null,
   "id": "5e54e313",
   "metadata": {},
   "outputs": [],
   "source": [
    "visualization(ori_data, generated_data, 'pca', save=False)\n",
    "visualization(ori_data, generated_data, 'tsne', save=False)"
   ]
  },
  {
   "cell_type": "code",
   "execution_count": null,
   "id": "29e37fa9",
   "metadata": {},
   "outputs": [],
   "source": []
  }
 ],
 "metadata": {
  "kernelspec": {
   "display_name": "Python 3",
   "language": "python",
   "name": "python3"
  },
  "language_info": {
   "codemirror_mode": {
    "name": "ipython",
    "version": 3
   },
   "file_extension": ".py",
   "mimetype": "text/x-python",
   "name": "python",
   "nbconvert_exporter": "python",
   "pygments_lexer": "ipython3",
   "version": "3.8.8"
  }
 },
 "nbformat": 4,
 "nbformat_minor": 5
}
